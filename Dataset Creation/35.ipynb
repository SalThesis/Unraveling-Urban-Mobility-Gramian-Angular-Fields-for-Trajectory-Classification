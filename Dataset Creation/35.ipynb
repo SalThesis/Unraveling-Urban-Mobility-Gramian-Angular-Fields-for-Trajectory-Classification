{
 "cells": [
  {
   "cell_type": "markdown",
   "id": "2055abb0-404e-47b6-b170-8e964347b357",
   "metadata": {},
   "source": [
    "Hilbert 4^6 = 4096 different areas\n",
    "\n",
    "Fixed length: 224 US\n",
    "\n",
    "GASF + GADF + BLACK"
   ]
  },
  {
   "cell_type": "code",
   "execution_count": null,
   "id": "c3f4185f-368f-4bf8-9f4b-7e538c12190c",
   "metadata": {},
   "outputs": [],
   "source": [
    "#Importing useful python packages\n",
    "\n",
    "import numpy as np\n",
    "import pandas as pd\n",
    "import math\n",
    "from sklearn.preprocessing import StandardScaler, MinMaxScaler\n",
    "from sklearn.decomposition import PCA\n",
    "from sklearn.cluster import KMeans\n",
    "from sklearn.metrics import silhouette_score\n",
    "import matplotlib.pyplot as plt\n",
    "from mpl_toolkits.mplot3d import Axes3D\n",
    "from matplotlib import cm\n",
    "from matplotlib.lines import Line2D\n",
    "import yaml\n",
    "from IPython.display import display\n",
    "try:\n",
    "    from yaml import CLoader as Loader, CDumper as Dumper\n",
    "except ImportError:\n",
    "    from yaml import Loader, Dumper\n",
    "\n",
    "from sklearn.model_selection import ParameterGrid\n",
    "\n",
    "pd.options.display.max_rows = 9999\n",
    "pd.options.display.max_columns = 9999\n",
    "\n",
    "#Initializing the random state variable rs so that the results could be replicated\n",
    "\n",
    "rs = 42\n",
    "np.random.seed(42)"
   ]
  },
  {
   "cell_type": "code",
   "execution_count": null,
   "id": "33a2e515-fcbd-4a78-8023-cc7c119241c6",
   "metadata": {},
   "outputs": [],
   "source": [
    "from Hilbert_function import hilbIndex\n",
    "from US_function import uniform_Sampling\n",
    "from Duplicate_function import duplicate"
   ]
  },
  {
   "cell_type": "code",
   "execution_count": null,
   "id": "35bec208-712e-4857-aded-5bdcf5e88940",
   "metadata": {},
   "outputs": [],
   "source": [
    "#Loading the dataset and storing it in the variable df (as a dataframe)\n",
    "\n",
    "my_path = \"midimost_with_class2.csv\""
   ]
  },
  {
   "cell_type": "code",
   "execution_count": null,
   "id": "874a40b0-cf70-49d0-9436-3ebd936084b2",
   "metadata": {},
   "outputs": [],
   "source": [
    "df_6 = pd.read_csv(my_path, sep = ',', low_memory = False)"
   ]
  },
  {
   "cell_type": "code",
   "execution_count": null,
   "id": "aef8404c-b028-4474-8835-3db3a2dcaa4d",
   "metadata": {},
   "outputs": [],
   "source": [
    "print(df_6['class2'].unique())"
   ]
  },
  {
   "cell_type": "code",
   "execution_count": null,
   "id": "18e72774-c698-41a4-8562-10869978acda",
   "metadata": {},
   "outputs": [],
   "source": [
    "df_stat_6 = df_6.groupby(['vehicle_id'], as_index = False).agg(\n",
    "    x_min = ('vehicle_x','min'),\n",
    "    x_max = ('vehicle_x','max'),\n",
    "    y_min = ('vehicle_y','min'),\n",
    "    y_max = ('vehicle_y','max'),\n",
    "    n_lines_x = ('vehicle_x','count'),\n",
    "    n_lines_y = ('vehicle_y', 'count')\n",
    ")\n",
    "\n",
    "print(sum(df_stat_6['n_lines_x'] != df_stat_6['n_lines_y']))\n",
    "\n",
    "x_glob_min_6 = df_stat_6['x_min'].min()\n",
    "x_glob_max_6 = df_stat_6['x_max'].max()\n",
    "\n",
    "y_glob_min_6 = df_stat_6['y_min'].min()\n",
    "y_glob_max_6 = df_stat_6['y_max'].max()\n",
    "\n",
    "df_new_6 = df_6.copy()\n",
    "vehicle_id_to_remove = df_stat_6[df_stat_6['n_lines_x'] < 4]['vehicle_id']\n",
    "df_new_6 = df_new_6[~ df_new_6['vehicle_id'].isin(vehicle_id_to_remove)]\n",
    "\n",
    "\n",
    "df_new_6['vehicle_x'] = (df_new_6['vehicle_x'] - x_glob_min_6) / (x_glob_max_6 - x_glob_min_6)\n",
    "df_new_6['vehicle_y'] = (df_new_6['vehicle_y'] - y_glob_min_6) / (y_glob_max_6 - y_glob_min_6)"
   ]
  },
  {
   "cell_type": "code",
   "execution_count": null,
   "id": "7ef0fc3a-d575-4502-a6af-f650a0524c99",
   "metadata": {},
   "outputs": [],
   "source": [
    "df_new_6.describe()"
   ]
  },
  {
   "cell_type": "code",
   "execution_count": null,
   "id": "8c4c670e-84f2-40ff-80d0-085feae004ed",
   "metadata": {},
   "outputs": [],
   "source": [
    "eps = 0.00095\n",
    "\n",
    "df_new_6['Hilbert'] = [hilbIndex(x, y, eps) for x,y in zip(df_new_6['vehicle_x'], df_new_6['vehicle_y'])]"
   ]
  },
  {
   "cell_type": "code",
   "execution_count": null,
   "id": "608bde05-44bf-4917-a8b2-083d5d831b29",
   "metadata": {},
   "outputs": [],
   "source": [
    "grouped_df_6 = df_new_6.groupby('vehicle_id').agg(\n",
    "    labels = ('class2', list),\n",
    "    Hilbert = ('Hilbert', list)\n",
    ").reset_index()\n",
    "\n",
    "grouped_df_6['label'] = grouped_df_6['labels'].apply(lambda x: x[0])"
   ]
  },
  {
   "cell_type": "code",
   "execution_count": null,
   "id": "27ec75e5-c4b8-43ff-97ff-70efb6ec3f96",
   "metadata": {},
   "outputs": [],
   "source": [
    "grouped_df_6['squeezed_Hilbert'] = grouped_df_6['Hilbert'].apply(uniform_Sampling, final_length = 224)\n",
    "grouped_df_6['squeezed_Hilbert'] = grouped_df_6['squeezed_Hilbert'].apply(duplicate, K = 224)"
   ]
  },
  {
   "cell_type": "code",
   "execution_count": null,
   "id": "5f27f031-b650-41ff-8cc7-dbdc53c2f09b",
   "metadata": {},
   "outputs": [],
   "source": [
    "labels_6 = grouped_df_6['label'].copy()"
   ]
  },
  {
   "cell_type": "code",
   "execution_count": null,
   "id": "cabe6bcf-41a6-4da8-a836-ab482573da42",
   "metadata": {},
   "outputs": [],
   "source": [
    "X_6 = grouped_df_6['squeezed_Hilbert'].copy()"
   ]
  },
  {
   "cell_type": "code",
   "execution_count": null,
   "id": "a853f8bd-5973-4ee0-b19c-df47b178a891",
   "metadata": {},
   "outputs": [],
   "source": [
    "class_, counts_ = np.unique(labels_6, return_counts = True)\n",
    "fig, ax = plt.subplots(1, 1, figsize = (6, 3))\n",
    "plt.bar(class_, counts_, color = 'lightgreen')\n",
    "ax.set_ylabel(\"Count\", fontsize = 12)\n",
    "ax.set_xlabel(\"Category\", fontsize = 12)\n",
    "ax.set_xticks(class_)\n",
    "ax.set_xticklabels(class_, rotation = 45, ha = \"right\")\n",
    "plt.grid(color = 'lightsteelblue', linestyle = '-', linewidth = 0.2)\n",
    "plt.tight_layout()\n",
    "plt.show()"
   ]
  },
  {
   "cell_type": "code",
   "execution_count": null,
   "id": "119360df-40e3-4711-b1fa-ed7c98884fce",
   "metadata": {},
   "outputs": [],
   "source": [
    "X_6.shape"
   ]
  },
  {
   "cell_type": "code",
   "execution_count": null,
   "id": "b4a98d46-60c0-41df-b854-f632fe562546",
   "metadata": {},
   "outputs": [],
   "source": [
    "counts_"
   ]
  },
  {
   "cell_type": "code",
   "execution_count": null,
   "id": "0363e22b-df8d-4298-b15b-a95d5b83dda3",
   "metadata": {},
   "outputs": [],
   "source": [
    "X_6 = np.vstack(np.array(X_6))"
   ]
  },
  {
   "cell_type": "code",
   "execution_count": null,
   "id": "02bfaefa-9333-4f30-b428-8e3b9efb9878",
   "metadata": {},
   "outputs": [],
   "source": [
    "from pyts.image import GramianAngularField, MarkovTransitionField"
   ]
  },
  {
   "cell_type": "code",
   "execution_count": null,
   "id": "84b03683-5b70-472e-8ce0-d1ef8643d608",
   "metadata": {},
   "outputs": [],
   "source": [
    "gaf_s = GramianAngularField(method = 'summation', sample_range = (0, 1))\n",
    "gaf_d = GramianAngularField(method = 'difference', sample_range = (0, 1))"
   ]
  },
  {
   "cell_type": "code",
   "execution_count": null,
   "id": "13f21915-076d-4b93-8128-459669fa0b44",
   "metadata": {},
   "outputs": [],
   "source": [
    "X_gaf_s_6 = gaf_s.fit_transform(X_6)\n",
    "X_gaf_d_6 = gaf_d.fit_transform(X_6)"
   ]
  },
  {
   "cell_type": "code",
   "execution_count": null,
   "id": "7967087e-d557-49f6-ae31-f12bce88e9b7",
   "metadata": {},
   "outputs": [],
   "source": [
    "R_6 = ((X_gaf_s_6 - X_gaf_s_6.min()) / (X_gaf_s_6.max() - X_gaf_s_6.min())) * 255\n",
    "G_6 = ((X_gaf_d_6 - X_gaf_d_6.min()) / (X_gaf_d_6.max() - X_gaf_d_6.min())) * 255\n",
    "B_6 = X_0_6 = np.full((X_gaf_s_6.shape[0], 224, 224), 0)\n",
    "X_color_new_6 = np.stack((R_6, G_6, B_6), axis = -1)"
   ]
  },
  {
   "cell_type": "code",
   "execution_count": null,
   "id": "747482e5-b17e-4f21-8438-edb23abc50d8",
   "metadata": {},
   "outputs": [],
   "source": [
    "import os\n",
    "import numpy as np\n",
    "from PIL import Image\n",
    "from sklearn.model_selection import train_test_split"
   ]
  },
  {
   "cell_type": "code",
   "execution_count": null,
   "id": "b7a3acf5-f030-4892-9af8-ffcd0bcacc1b",
   "metadata": {},
   "outputs": [],
   "source": [
    "y_6 = np.array(labels_6)"
   ]
  },
  {
   "cell_type": "code",
   "execution_count": null,
   "id": "a26e4ebf-4dcd-4461-942f-3078b85190e7",
   "metadata": {},
   "outputs": [],
   "source": [
    "x_train_6, x_val_test_6, y_train_6, y_val_test_6 = train_test_split(X_color_new_6, y_6, test_size = 0.4, random_state = rs, stratify = y_6)\n",
    "x_val_6, x_test_6, y_val_6, y_test_6 = train_test_split(x_val_test_6, y_val_test_6, test_size = 0.5, random_state = rs, stratify = y_val_test_6)"
   ]
  },
  {
   "cell_type": "code",
   "execution_count": null,
   "id": "b2af6059-d68e-477d-943d-3fc3ed320dfc",
   "metadata": {},
   "outputs": [],
   "source": [
    "os.makedirs(\"Data_35/train/pedestrian\", exist_ok = False)\n",
    "os.makedirs(\"Data_35/val/pedestrian\", exist_ok = False)\n",
    "os.makedirs(\"Data_35/test/pedestrian\", exist_ok = False)\n",
    "\n",
    "os.makedirs(\"Data_35/train/bus\", exist_ok = False)\n",
    "os.makedirs(\"Data_35/val/bus\", exist_ok = False)\n",
    "os.makedirs(\"Data_35/test/bus\", exist_ok = False)\n",
    "\n",
    "os.makedirs(\"Data_35/train/motorcycle\", exist_ok = False)\n",
    "os.makedirs(\"Data_35/val/motorcycle\", exist_ok = False)\n",
    "os.makedirs(\"Data_35/test/motorcycle\", exist_ok = False)\n",
    "\n",
    "os.makedirs(\"Data_35/train/bycicle\", exist_ok = False)\n",
    "os.makedirs(\"Data_35/val/bycicle\", exist_ok = False)\n",
    "os.makedirs(\"Data_35/test/bycicle\", exist_ok = False)\n",
    "\n",
    "os.makedirs(\"Data_35/train/private_car\", exist_ok = False)\n",
    "os.makedirs(\"Data_35/val/private_car\", exist_ok = False)\n",
    "os.makedirs(\"Data_35/test/private_car\", exist_ok = False)\n",
    "\n",
    "os.makedirs(\"Data_35/train/taxi_or_uber\", exist_ok = False)\n",
    "os.makedirs(\"Data_35/val/taxi_or_uber\", exist_ok = False)\n",
    "os.makedirs(\"Data_35/test/taxi_or_uber\", exist_ok = False)"
   ]
  },
  {
   "cell_type": "code",
   "execution_count": null,
   "id": "1e9312fa-2a74-4725-a396-b6bf9297d49a",
   "metadata": {},
   "outputs": [],
   "source": [
    "def save_images(images, labels, partition, directory):\n",
    "    for idx, label in enumerate(labels):\n",
    "        I = Image.fromarray(images[idx].astype(np.uint8))\n",
    "        \n",
    "        folder = os.path.join(directory, partition)\n",
    "        folder = os.path.join(folder, label)\n",
    "\n",
    "        filename = f\"{label}.{idx}.png\"  \n",
    "        I.save(os.path.join(folder, filename), format = 'TIFF')"
   ]
  },
  {
   "cell_type": "code",
   "execution_count": null,
   "id": "2349fec3-2e4c-4c5a-8844-1caaee556796",
   "metadata": {},
   "outputs": [],
   "source": [
    "save_images(x_train_6, y_train_6, \"train\", \"Data_35\")\n",
    "save_images(x_val_6, y_val_6, \"val\", \"Data_35\")\n",
    "save_images(x_test_6, y_test_6, \"test\", \"Data_35\")"
   ]
  }
 ],
 "metadata": {
  "kernelspec": {
   "display_name": "Python 3 (ipykernel)",
   "language": "python",
   "name": "python3"
  },
  "language_info": {
   "codemirror_mode": {
    "name": "ipython",
    "version": 3
   },
   "file_extension": ".py",
   "mimetype": "text/x-python",
   "name": "python",
   "nbconvert_exporter": "python",
   "pygments_lexer": "ipython3",
   "version": "3.9.7"
  }
 },
 "nbformat": 4,
 "nbformat_minor": 5
}
